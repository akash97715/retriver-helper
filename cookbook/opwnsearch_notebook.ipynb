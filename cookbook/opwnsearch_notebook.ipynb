{
 "cells": [
  {
   "cell_type": "code",
   "execution_count": 9,
   "metadata": {},
   "outputs": [
    {
     "name": "stdout",
     "output_type": "stream",
     "text": [
      ".opensearch-observability\n",
      ".plugins-ml-config\n",
      ".opensearch-sap-log-types-config\n"
     ]
    }
   ],
   "source": [
    "from opensearchpy import OpenSearch\n",
    "\n",
    "# Initialize the OpenSearch client for a local Docker setup\n",
    "client = OpenSearch(\n",
    "    hosts=[{'host': 'localhost', 'port': 9200}],\n",
    ")\n",
    "\n",
    "# List all indices\n",
    "indices = client.indices.get_alias(\"*\")\n",
    "\n",
    "# Alternatively, if you don't use aliases, you can use the following line to list all indices\n",
    "# indices = client.indices.get(\"*\")\n",
    "\n",
    "# Print the names of all indices\n",
    "for index in indices:\n",
    "    print(index)\n"
   ]
  },
  {
   "cell_type": "code",
   "execution_count": null,
   "metadata": {},
   "outputs": [],
   "source": []
  },
  {
   "cell_type": "code",
   "execution_count": null,
   "metadata": {},
   "outputs": [],
   "source": []
  },
  {
   "cell_type": "code",
   "execution_count": 12,
   "metadata": {},
   "outputs": [],
   "source": [
    "# Assuming UnstructuredFileLoader is defined and correctly imported\n",
    "\n",
    "from langchain.document_loaders import UnstructuredFileLoader\n",
    "from collections import defaultdict\n",
    "\n",
    "class CategoryContentFetcher(UnstructuredFileLoader):\n",
    "    def __init__(self, file_path, mode=\"elements\", strategy=\"hi_res\"):\n",
    "        \"\"\"\n",
    "        Initializes the CategoryContentFetcher with file path, mode, and strategy.\n",
    "        \n",
    "        :param file_path: Path to the file to be processed.\n",
    "        :param mode: Loading mode, passed to UnstructuredFileLoader.\n",
    "        :param strategy: Strategy for loading, passed to UnstructuredFileLoader.\n",
    "        \"\"\"\n",
    "        # Initialize the superclass with the file path and any other necessary parameters\n",
    "        super().__init__(file_path, mode=mode, strategy=strategy)\n",
    "        # Load the documents immediately or as per your requirement\n",
    "        self.documents = self.load()  # Assuming load() is a method from UnstructuredFileLoader\n",
    "        self.category_counts = self._calculate_category_counts()\n",
    "\n",
    "    def _calculate_category_counts(self):\n",
    "        \"\"\"\n",
    "        Calculates the counts of each category found in the documents.\n",
    "        \n",
    "        :return: A dictionary with categories as keys and their counts as values.\n",
    "        \"\"\"\n",
    "        category_counts = {}\n",
    "        for doc in self.documents:\n",
    "            # Assuming each 'doc' has a 'metadata' attribute with a 'category' key\n",
    "            category = doc.metadata.get('category')\n",
    "            if category:\n",
    "                category_counts[category] = category_counts.get(category, 0) + 1\n",
    "        return category_counts\n",
    "\n",
    "    def fetch_content_by_category(self, category=\"Table\"):\n",
    "        \"\"\"\n",
    "        Fetches page_content of documents that have a specified category in their metadata.\n",
    "        \n",
    "        :param category: Category to filter the documents by. Default is \"Table\".\n",
    "        :return: List of page_content strings from documents matching the specified category.\n",
    "        \"\"\"\n",
    "        return [(doc.page_content, doc.metadata) for doc in self.documents if doc.metadata.get('category') == category]\n",
    "\n",
    "    def get_category_counts(self):\n",
    "        \"\"\"\n",
    "        Returns the calculated counts of each category.\n",
    "        \n",
    "        :return: A dictionary with categories as keys and their counts as values.\n",
    "        \"\"\"\n",
    "        return self.category_counts\n",
    "    def enhance_table_content(self, documents):\n",
    "        \"\"\"\n",
    "        Enhances the content of documents categorized as tables by organizing, sorting, and merging them\n",
    "        based on their parent_id and page_number.\n",
    "        \n",
    "        :param documents: List of tuples, each containing page_content and metadata, to be enhanced.\n",
    "        :return: A dictionary of merged contents by parent_id.\n",
    "        \"\"\"\n",
    "        organized_docs = defaultdict(list)\n",
    "        for content, metadata in documents:\n",
    "            parent_id = metadata.get('parent_id', 'no_parent')  # Handle documents without a parent_id\n",
    "            organized_docs[parent_id].append((content, metadata))\n",
    "        \n",
    "        # Ensure each group is sorted by page_number\n",
    "        for parent_id in organized_docs:\n",
    "            organized_docs[parent_id].sort(key=lambda x: x[1]['page_number'])\n",
    "        \n",
    "        # Step 2: Merge contents\n",
    "        merged_contents = {}\n",
    "        for parent_id, docs in organized_docs.items():\n",
    "            # Simple string concatenation to merge document content\n",
    "            merged_content = \" \".join([doc[0] for doc in docs])\n",
    "            merged_contents[parent_id] = merged_content\n",
    "        \n",
    "        # Return the merged contents organized by parent_id\n",
    "        return merged_contents\n"
   ]
  },
  {
   "cell_type": "code",
   "execution_count": 13,
   "metadata": {},
   "outputs": [
    {
     "name": "stderr",
     "output_type": "stream",
     "text": [
      "The PDF <_io.BufferedReader name='stuff.pdf'> contains a metadata field indicating that it should not allow text extraction. Ignoring this field and proceeding. Use the check_extractable if you want to raise an error in this case\n",
      "The PDF <_io.BufferedReader name='stuff.pdf'> contains a metadata field indicating that it should not allow text extraction. Ignoring this field and proceeding. Use the check_extractable if you want to raise an error in this case\n"
     ]
    }
   ],
   "source": [
    "#fetcher = CategoryContentFetcher(\"stuff.pdf\")"
   ]
  },
  {
   "cell_type": "code",
   "execution_count": 20,
   "metadata": {},
   "outputs": [
    {
     "data": {
      "text/plain": [
       "{'Image': 4,\n",
       " 'Header': 124,\n",
       " 'Title': 366,\n",
       " 'UncategorizedText': 146,\n",
       " 'Table': 49,\n",
       " 'NarrativeText': 840,\n",
       " 'ListItem': 113,\n",
       " 'Footer': 39}"
      ]
     },
     "execution_count": 20,
     "metadata": {},
     "output_type": "execute_result"
    }
   ],
   "source": [
    "fetcher.get_category_counts()"
   ]
  },
  {
   "cell_type": "code",
   "execution_count": null,
   "metadata": {},
   "outputs": [],
   "source": []
  },
  {
   "cell_type": "code",
   "execution_count": 18,
   "metadata": {},
   "outputs": [
    {
     "data": {
      "text/plain": [
       "[('Enablon, a subsidiary of Wolters Kluwer  Enablon Hosted Solution System ',\n",
       "  {'source': 'stuff.pdf',\n",
       "   'coordinates': {'points': ((188.83333333333334, 687.1666666666666),\n",
       "     (188.83333333333334, 917.1666666666666),\n",
       "     (1550.0, 917.1666666666666),\n",
       "     (1550.0, 687.1666666666666)),\n",
       "    'system': 'PixelSpace',\n",
       "    'layout_width': 1700,\n",
       "    'layout_height': 2200},\n",
       "   'filename': 'stuff.pdf',\n",
       "   'last_modified': '2024-02-24T16:11:51',\n",
       "   'filetype': 'application/pdf',\n",
       "   'page_number': 1,\n",
       "   'category': 'Image'}),\n",
       " ('System and Organization Controls Report  Report on Controls Placed in Operation and Tests of Operating Effectiveness Relevant to Security  For the Period  May 1, 2022, to April 30, 2023 ',\n",
       "  {'source': 'stuff.pdf',\n",
       "   'coordinates': {'points': ((177.83333333333331, 1184.6666666666667),\n",
       "     (177.83333333333331, 1622.9999999999998),\n",
       "     (1538.8333333333333, 1622.9999999999998),\n",
       "     (1538.8333333333333, 1184.6666666666667)),\n",
       "    'system': 'PixelSpace',\n",
       "    'layout_width': 1700,\n",
       "    'layout_height': 2200},\n",
       "   'filename': 'stuff.pdf',\n",
       "   'last_modified': '2024-02-24T16:11:51',\n",
       "   'filetype': 'application/pdf',\n",
       "   'page_number': 1,\n",
       "   'category': 'Image'}),\n",
       " ('ee EE NIN OEEEnd Users andFunctional AdministratorsEnablon SolutiorEnablon Application ServerEnablon ITAdministrators_.administration — J',\n",
       "  {'source': 'stuff.pdf',\n",
       "   'coordinates': {'points': ((200.0, 935.3611111111111),\n",
       "     (200.0, 1577.0277777777778),\n",
       "     (1499.861111111111, 1577.0277777777778),\n",
       "     (1499.861111111111, 935.3611111111111)),\n",
       "    'system': 'PixelSpace',\n",
       "    'layout_width': 1700,\n",
       "    'layout_height': 2200},\n",
       "   'filename': 'stuff.pdf',\n",
       "   'last_modified': '2024-02-24T16:11:51',\n",
       "   'filetype': 'application/pdf',\n",
       "   'page_number': 13,\n",
       "   'category': 'Image'}),\n",
       " (\"Enablon Production Servers’ environmentwww.enablon.com/App3Enablon application 3ures Enablon application 2Jompany’s 2 end userswww.enablon.com/App1Enablon application 1Company's 1 end users\",\n",
       "  {'source': 'stuff.pdf',\n",
       "   'coordinates': {'points': ((200.0, 295.5555555555555),\n",
       "     (200.0, 933.8888888888888),\n",
       "     (1500.0, 933.8888888888888),\n",
       "     (1500.0, 295.5555555555555)),\n",
       "    'system': 'PixelSpace',\n",
       "    'layout_width': 1700,\n",
       "    'layout_height': 2200},\n",
       "   'filename': 'stuff.pdf',\n",
       "   'last_modified': '2024-02-24T16:11:51',\n",
       "   'filetype': 'application/pdf',\n",
       "   'page_number': 14,\n",
       "   'category': 'Image'})]"
      ]
     },
     "execution_count": 18,
     "metadata": {},
     "output_type": "execute_result"
    }
   ],
   "source": [
    "fetcher.fetch_content_by_category(category=\"Image\")"
   ]
  },
  {
   "cell_type": "code",
   "execution_count": null,
   "metadata": {},
   "outputs": [],
   "source": []
  },
  {
   "cell_type": "code",
   "execution_count": null,
   "metadata": {},
   "outputs": [],
   "source": [
    "# Assuming UnstructuredFileLoader and Document classes are defined/imported\n",
    "\n",
    "# Initialize CategoryContentFetcher with the path to your file\n",
    "# Replace 'path/to/your/document.pdf' with the actual file path\n",
    "fetcher = CategoryContentFetcher(\"stuff.pdf\")\n",
    "\n",
    "# Optionally, if you want to filter documents by a specific category,\n",
    "# use the fetch_content_by_category method\n",
    "category = \"Table\"  # Example category\n",
    "filtered_documents = fetcher.fetch_content_by_category(category)\n",
    "\n",
    "# Display filtered documents\n",
    "print(f\"Documents filtered by category '{category}':\")\n",
    "for content, metadata in filtered_documents:\n",
    "    print(f\"Content: {content}\\nMetadata: {metadata}\\n\")\n",
    "\n",
    "# To get and display the count of documents in each category,\n",
    "# use the get_category_counts method\n",
    "category_counts = fetcher.get_category_counts()\n",
    "print(\"Counts of each category:\")\n",
    "for cat, count in category_counts.items():\n",
    "    print(f\"{cat}: {count}\")\n"
   ]
  },
  {
   "cell_type": "code",
   "execution_count": null,
   "metadata": {},
   "outputs": [],
   "source": []
  },
  {
   "cell_type": "code",
   "execution_count": null,
   "metadata": {},
   "outputs": [],
   "source": []
  },
  {
   "cell_type": "code",
   "execution_count": 10,
   "metadata": {},
   "outputs": [],
   "source": [
    "import hashlib\n",
    "import os\n",
    "import json\n",
    "from langchain.document_loaders.csv_loader import CSVLoader\n",
    "from langchain.document_loaders import (\n",
    "    UnstructuredExcelLoader,\n",
    "    PyPDFLoader,\n",
    "    UnstructuredWordDocumentLoader,\n",
    "    UnstructuredPowerPointLoader,\n",
    "    UnstructuredFileLoader,\n",
    ")\n",
    "from langchain.text_splitter import RecursiveCharacterTextSplitter\n",
    "import pathlib\n",
    "from fastapi import HTTPException\n",
    "from typing import Optional, List\n",
    "\n",
    "def calculate_md5_hash(filename, chunk_size=8192):\n",
    "    try:\n",
    "        \n",
    "        with open(filename, \"rb\") as f:\n",
    "            md5_hash = hashlib.md5()\n",
    "            while chunk := f.read(chunk_size):\n",
    "                md5_hash.update(chunk)\n",
    "\n",
    "        return md5_hash.hexdigest()\n",
    "    except Exception as e:\n",
    "        \n",
    "        raise e"
   ]
  },
  {
   "cell_type": "code",
   "execution_count": null,
   "metadata": {},
   "outputs": [],
   "source": []
  }
 ],
 "metadata": {
  "kernelspec": {
   "display_name": "langchain",
   "language": "python",
   "name": "python3"
  },
  "language_info": {
   "codemirror_mode": {
    "name": "ipython",
    "version": 3
   },
   "file_extension": ".py",
   "mimetype": "text/x-python",
   "name": "python",
   "nbconvert_exporter": "python",
   "pygments_lexer": "ipython3",
   "version": "3.11.7"
  }
 },
 "nbformat": 4,
 "nbformat_minor": 2
}
